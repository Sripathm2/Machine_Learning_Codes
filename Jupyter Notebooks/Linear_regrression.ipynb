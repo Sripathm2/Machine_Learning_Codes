{
 "cells": [
  {
   "cell_type": "code",
   "execution_count": 13,
   "outputs": [],
   "source": [
    "import torch\n",
    "from torch.utils.data import DataLoader\n",
    "import torch.nn as nn\n",
    "import torch.nn.functional as F\n",
    "import pandas as pd\n",
    "import numpy as np\n",
    "import matplotlib.pyplot as plt\n",
    "from sklearn.preprocessing import normalize\n",
    "from torch.autograd import Variable"
   ],
   "metadata": {
    "collapsed": false,
    "pycharm": {
     "name": "#%%\n"
    }
   }
  },
  {
   "cell_type": "code",
   "execution_count": 14,
   "outputs": [],
   "source": [
    "df_train = pd.read_csv('../Datasets/LinearRegressionDataset/train.csv')\n",
    "df_test = pd.read_csv('../Datasets/LinearRegressionDataset/test.csv')"
   ],
   "metadata": {
    "collapsed": false,
    "pycharm": {
     "name": "#%%\n"
    }
   }
  },
  {
   "cell_type": "code",
   "execution_count": 15,
   "outputs": [],
   "source": [
    "X_train = df_train['x'].values\n",
    "y_train = df_train['y'].values.round(2)\n",
    "X_test = df_test['x'].values\n",
    "y_test = df_test['y'].values.round(2)\n",
    " "
   ],
   "metadata": {
    "collapsed": false,
    "pycharm": {
     "name": "#%%\n"
    }
   }
  },
  {
   "cell_type": "code",
   "execution_count": 16,
   "outputs": [],
   "source": [
    "X_train_temp = []\n",
    "y_train_temp = []\n",
    "divideby = 100\n",
    "\n",
    "for i in range(len(X_train)):\n",
    "    #if X_train[i] not in X_train_temp:\n",
    "    X_train_temp.append((X_train[i]/divideby))\n",
    "    y_train_temp.append((y_train[i]/divideby))\n",
    "\n",
    "for i in range(len(X_test)):\n",
    "    #if X_test[i] not in X_train_temp:\n",
    "    X_train_temp.append((X_test[i]/divideby))\n",
    "    y_train_temp.append((y_test[i]/divideby))\n",
    "\n",
    "X_train = X_train_temp\n",
    "y_train = y_train_temp"
   ],
   "metadata": {
    "collapsed": false,
    "pycharm": {
     "name": "#%%\n"
    }
   }
  },
  {
   "cell_type": "code",
   "execution_count": 17,
   "outputs": [],
   "source": [
    "X_train_temp = []\n",
    "y_train_temp = []\n",
    "for i in range(len(X_train)):\n",
    "    if y_train[i] < 0.5:\n",
    "        X_train_temp.append(X_train[i])\n",
    "        y_train_temp.append(y_train[i])\n",
    "\n",
    "\n",
    "X_train = X_train_temp\n",
    "y_train = y_train_temp"
   ],
   "metadata": {
    "collapsed": false,
    "pycharm": {
     "name": "#%%\n"
    }
   }
  },
  {
   "cell_type": "code",
   "execution_count": 18,
   "outputs": [
    {
     "data": {
      "text/plain": "'amin, amax = min(X_train), max(X_train)\\nfor i, val in enumerate(X_train):\\n    X_train[i] = (val-amin) / (amax-amin)\\n\\namin, amax = min(y_train), max(y_train)\\nfor i, val in enumerate(X_train):\\n    y_train[i] = (val-amin) / (amax-amin)'"
     },
     "execution_count": 18,
     "metadata": {},
     "output_type": "execute_result"
    }
   ],
   "source": [
    "X_train = normalize([X_train])\n",
    "y_train = normalize([y_train])\n",
    "\n",
    "\n",
    "'''amin, amax = min(X_train), max(X_train)\n",
    "for i, val in enumerate(X_train):\n",
    "    X_train[i] = (val-amin) / (amax-amin)\n",
    "\n",
    "amin, amax = min(y_train), max(y_train)\n",
    "for i, val in enumerate(X_train):\n",
    "    y_train[i] = (val-amin) / (amax-amin)'''\n"
   ],
   "metadata": {
    "collapsed": false,
    "pycharm": {
     "name": "#%%\n"
    }
   }
  },
  {
   "cell_type": "code",
   "execution_count": 19,
   "outputs": [],
   "source": [
    "X_train = np.array(X_train).reshape(-1,1)\n",
    "y_train = np.array(y_train).reshape(-1,1)\n"
   ],
   "metadata": {
    "collapsed": false,
    "pycharm": {
     "name": "#%%\n"
    }
   }
  },
  {
   "cell_type": "code",
   "execution_count": 20,
   "outputs": [
    {
     "data": {
      "text/plain": "<Figure size 432x288 with 1 Axes>",
      "image/png": "[encoded data removed]"
     },
     "metadata": {
      "needs_background": "light"
     },
     "output_type": "display_data"
    }
   ],
   "source": [
    "plt.scatter(X_train,y_train)\n",
    "plt.show()"
   ],
   "metadata": {
    "collapsed": false,
    "pycharm": {
     "name": "#%%\n"
    }
   }
  },
  {
   "cell_type": "code",
   "execution_count": 21,
   "outputs": [],
   "source": [
    "class Model(torch.nn.Module):\n",
    "\n",
    "    def __init__(self):\n",
    "        super().__init__()\n",
    "        self.fc1 = nn.Linear(1,1)\n",
    "\n",
    "    def forward(self,X):\n",
    "        X = self.fc1(X)\n",
    "        return X"
   ],
   "metadata": {
    "collapsed": false,
    "pycharm": {
     "name": "#%%\n"
    }
   }
  },
  {
   "cell_type": "code",
   "execution_count": 22,
   "outputs": [
    {
     "data": {
      "text/plain": "Model(\n  (fc1): Linear(in_features=1, out_features=1, bias=True)\n)"
     },
     "execution_count": 22,
     "metadata": {},
     "output_type": "execute_result"
    }
   ],
   "source": [
    "model = Model()\n",
    "model"
   ],
   "metadata": {
    "collapsed": false,
    "pycharm": {
     "name": "#%%\n"
    }
   }
  },
  {
   "cell_type": "code",
   "execution_count": 23,
   "outputs": [],
   "source": [
    "made_up_values = False\n",
    "\n",
    "if made_up_values:\n",
    "    x_values = [i for i in range(11)]\n",
    "    x_train = np.array(x_values, dtype=np.float32)\n",
    "    X_train = x_train.reshape(-1, 1)\n",
    "\n",
    "    y_values = [2*i + 1 for i in x_values]\n",
    "    y_train = np.array(y_values, dtype=np.float32)\n",
    "    y_train = y_train.reshape(-1, 1)"
   ],
   "metadata": {
    "collapsed": false,
    "pycharm": {
     "name": "#%%\n"
    }
   }
  },
  {
   "cell_type": "code",
   "execution_count": 24,
   "outputs": [
    {
     "name": "stdout",
     "output_type": "stream",
     "text": [
      "epochs: 100  loss: 0.0926\n",
      "epochs: 200  loss: 0.0621\n",
      "epochs: 300  loss: 0.0416\n",
      "epochs: 400  loss: 0.0279\n",
      "epochs: 500  loss: 0.0187\n",
      "epochs: 600  loss: 0.0126\n",
      "epochs: 700  loss: 0.0085\n",
      "epochs: 800  loss: 0.0057\n",
      "epochs: 900  loss: 0.0039\n",
      "epochs: 1000  loss: 0.0026\n",
      "epochs: 1100  loss: 0.0018\n",
      "epochs: 1200  loss: 0.0012\n",
      "epochs: 1300  loss: 0.0009\n",
      "epochs: 1400  loss: 0.0006\n",
      "epochs: 1500  loss: 0.0004\n",
      "epochs: 1600  loss: 0.0003\n",
      "epochs: 1700  loss: 0.0003\n",
      "epochs: 1800  loss: 0.0002\n",
      "epochs: 1900  loss: 0.0002\n",
      "epochs: 2000  loss: 0.0002\n",
      "epochs: 2100  loss: 0.0001\n",
      "epochs: 2200  loss: 0.0001\n",
      "epochs: 2300  loss: 0.0001\n",
      "epochs: 2400  loss: 0.0001\n",
      "epochs: 2500  loss: 0.0001\n",
      "epochs: 2600  loss: 0.0001\n",
      "epochs: 2700  loss: 0.0001\n",
      "epochs: 2800  loss: 0.0001\n",
      "epochs: 2900  loss: 0.0001\n",
      "epochs: 3000  loss: 0.0001\n",
      "epochs: 3100  loss: 0.0001\n",
      "epochs: 3200  loss: 0.0001\n",
      "epochs: 3300  loss: 0.0001\n",
      "epochs: 3400  loss: 0.0001\n",
      "epochs: 3500  loss: 0.0001\n",
      "epochs: 3600  loss: 0.0001\n",
      "epochs: 3700  loss: 0.0001\n",
      "epochs: 3800  loss: 0.0001\n",
      "epochs: 3900  loss: 0.0001\n",
      "epochs: 4000  loss: 0.0001\n",
      "epochs: 4100  loss: 0.0001\n",
      "epochs: 4200  loss: 0.0001\n",
      "epochs: 4300  loss: 0.0001\n",
      "epochs: 4400  loss: 0.0001\n",
      "epochs: 4500  loss: 0.0001\n",
      "epochs: 4600  loss: 0.0001\n",
      "epochs: 4700  loss: 0.0001\n",
      "epochs: 4800  loss: 0.0001\n",
      "epochs: 4900  loss: 0.0001\n",
      "epochs: 5000  loss: 0.0001\n"
     ]
    }
   ],
   "source": [
    "criterion = nn.MSELoss()\n",
    "optimizer = torch.optim.SGD(model.parameters(), lr=0.001)\n",
    "\n",
    "epochs = 5000\n",
    "losses = []\n",
    "losses_item = []\n",
    "x_train_val = []\n",
    "y_pred_val = []\n",
    "y_train_val = []\n",
    "\n",
    "for i in range(epochs):\n",
    "    i += 1\n",
    "    arr = np.arange(X_train.size)\n",
    "    np.random.shuffle(arr)\n",
    "    X_train_temp = []\n",
    "    y_train_temp = []\n",
    "    for index in arr:\n",
    "        X_train_temp.append(X_train[index])\n",
    "        y_train_temp.append(y_train[index])\n",
    "    X_train = np.array(X_train_temp)\n",
    "    y_train = np.array(y_train_temp)\n",
    "    inputs = Variable(torch.from_numpy(X_train))\n",
    "    labels = Variable(torch.from_numpy(y_train))\n",
    "    inputs = torch.nan_to_num(inputs)\n",
    "    labels = torch.nan_to_num(labels)\n",
    "    optimizer.zero_grad()\n",
    "    y_pred = model(inputs.float())\n",
    "    loss = criterion(y_pred, labels.float())\n",
    "    losses_item.append(loss.item())\n",
    "    loss.backward()\n",
    "    optimizer.step()\n",
    "    if (i+1) == epochs:\n",
    "        x_train_val = inputs\n",
    "        y_pred_val = y_pred\n",
    "        y_train_val = labels\n",
    "    if i%100 == 0:\n",
    "        print(f'epochs: {i}  loss: {loss.item():.4f}')"
   ],
   "metadata": {
    "collapsed": false,
    "pycharm": {
     "name": "#%%\n"
    }
   }
  },
  {
   "cell_type": "code",
   "execution_count": 25,
   "outputs": [
    {
     "data": {
      "text/plain": "<Figure size 432x288 with 1 Axes>",
      "image/png": "[encoded data removed]"
     },
     "metadata": {
      "needs_background": "light"
     },
     "output_type": "display_data"
    }
   ],
   "source": [
    "plt.plot(range(epochs),losses_item)\n",
    "plt.show()"
   ],
   "metadata": {
    "collapsed": false,
    "pycharm": {
     "name": "#%%\n"
    }
   }
  },
  {
   "cell_type": "code",
   "execution_count": 26,
   "outputs": [
    {
     "data": {
      "text/plain": "<Figure size 432x288 with 1 Axes>",
      "image/png": "[encoded data removed]"
     },
     "metadata": {
      "needs_background": "light"
     },
     "output_type": "display_data"
    }
   ],
   "source": [
    "plt.scatter(x_train_val,y_train_val)\n",
    "plt.show()"
   ],
   "metadata": {
    "collapsed": false,
    "pycharm": {
     "name": "#%%\n"
    }
   }
  },
  {
   "cell_type": "code",
   "execution_count": 27,
   "outputs": [
    {
     "data": {
      "text/plain": "<Figure size 432x288 with 1 Axes>",
      "image/png": "[encoded data removed]"
     },
     "metadata": {
      "needs_background": "light"
     },
     "output_type": "display_data"
    }
   ],
   "source": [
    "plt.scatter(x_train_val,y_pred_val.detach().numpy())\n",
    "plt.show()"
   ],
   "metadata": {
    "collapsed": false,
    "pycharm": {
     "name": "#%%\n"
    }
   }
  }
 ],
 "metadata": {
  "kernelspec": {
   "display_name": "Python 3",
   "language": "python",
   "name": "python3"
  },
  "language_info": {
   "codemirror_mode": {
    "name": "ipython",
    "version": 2
   },
   "file_extension": ".py",
   "mimetype": "text/x-python",
   "name": "python",
   "nbconvert_exporter": "python",
   "pygments_lexer": "ipython2",
   "version": "2.7.6"
  }
 },
 "nbformat": 4,
 "nbformat_minor": 0
}