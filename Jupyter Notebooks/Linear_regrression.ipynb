{
 "cells": [
  {
   "cell_type": "code",
   "execution_count": 350,
   "outputs": [],
   "source": [
    "import torch\n",
    "from torch.utils.data import DataLoader\n",
    "import torch.nn as nn\n",
    "import torch.nn.functional as F\n",
    "import pandas as pd\n",
    "import numpy as np\n",
    "import matplotlib.pyplot as plt\n",
    "from torch.autograd import Variable"
   ],
   "metadata": {
    "collapsed": false,
    "pycharm": {
     "name": "#%%\n"
    }
   }
  },
  {
   "cell_type": "code",
   "execution_count": 351,
   "outputs": [],
   "source": [
    "df_train = pd.read_csv('../Datasets/LinearRegressionDataset/train.csv')\n",
    "df_test = pd.read_csv('../Datasets/LinearRegressionDataset/test.csv')"
   ],
   "metadata": {
    "collapsed": false,
    "pycharm": {
     "name": "#%%\n"
    }
   }
  },
  {
   "cell_type": "code",
   "execution_count": 352,
   "outputs": [],
   "source": [
    "X_train = df_train['x'].values\n",
    "y_train = df_train['y'].values.round(2)\n",
    "X_test = df_test['x'].values\n",
    "y_test = df_test['y'].values.round(2)\n",
    " "
   ],
   "metadata": {
    "collapsed": false,
    "pycharm": {
     "name": "#%%\n"
    }
   }
  },
  {
   "cell_type": "code",
   "execution_count": 353,
   "outputs": [],
   "source": [
    "X_train_temp = []\n",
    "y_train_temp = []\n",
    "X_test_temp = []\n",
    "y_test_temp = []\n",
    "divideby = 100\n",
    "\n",
    "for i in range(len(X_train)):\n",
    "    #if X_train[i] not in X_train_temp:\n",
    "    X_train_temp.append((X_train[i]/divideby))\n",
    "    y_train_temp.append((y_train[i]/divideby))\n",
    "\n",
    "for i in range(len(X_test)):\n",
    "    #if X_test[i] not in X_test_temp:\n",
    "    X_train_temp.append((X_test[i]/divideby))\n",
    "    y_train_temp.append((y_test[i]/divideby))\n",
    "\n",
    "X_train = X_train_temp\n",
    "y_train = y_train_temp"
   ],
   "metadata": {
    "collapsed": false,
    "pycharm": {
     "name": "#%%\n"
    }
   }
  },
  {
   "cell_type": "code",
   "execution_count": 354,
   "outputs": [],
   "source": [
    "X_train = np.array(X_train).reshape(-1,1)\n",
    "y_train = np.array(y_train).reshape(-1,1)\n"
   ],
   "metadata": {
    "collapsed": false,
    "pycharm": {
     "name": "#%%\n"
    }
   }
  },
  {
   "cell_type": "code",
   "execution_count": 355,
   "outputs": [
    {
     "data": {
      "text/plain": "<Figure size 432x288 with 1 Axes>",
      "image/png": "[encoded data removed]"
     },
     "metadata": {
      "needs_background": "light"
     },
     "output_type": "display_data"
    }
   ],
   "source": [
    "plt.scatter(X_train,y_train)\n",
    "plt.show()"
   ],
   "metadata": {
    "collapsed": false,
    "pycharm": {
     "name": "#%%\n"
    }
   }
  },
  {
   "cell_type": "code",
   "execution_count": 356,
   "outputs": [],
   "source": [
    "class Model(torch.nn.Module):\n",
    "\n",
    "    def __init__(self):\n",
    "        super().__init__()\n",
    "        self.fc1 = nn.Linear(1,1)\n",
    "\n",
    "    def forward(self,X):\n",
    "        X = self.fc1(X)\n",
    "        return X"
   ],
   "metadata": {
    "collapsed": false,
    "pycharm": {
     "name": "#%%\n"
    }
   }
  },
  {
   "cell_type": "code",
   "execution_count": 357,
   "outputs": [],
   "source": [
    "model = Model()\n",
    "model"
   ],
   "metadata": {
    "collapsed": false,
    "pycharm": {
     "name": "#%%\n"
    }
   }
  },
  {
   "cell_type": "code",
   "execution_count": null,
   "outputs": [],
   "source": [
    "made_up_values = True\n",
    "\n",
    "if made_up_values:\n",
    "    x_values = [i for i in range(11)]\n",
    "    x_train = np.array(x_values, dtype=np.float32)\n",
    "    X_train = x_train.reshape(-1, 1)\n",
    "\n",
    "    y_values = [2*i + 1 for i in x_values]\n",
    "    y_train = np.array(y_values, dtype=np.float32)\n",
    "    y_train = y_train.reshape(-1, 1)"
   ],
   "metadata": {
    "collapsed": false,
    "pycharm": {
     "name": "#%%\n"
    }
   }
  },
  {
   "cell_type": "code",
   "execution_count": 358,
   "outputs": [
    {
     "name": "stdout",
     "output_type": "stream",
     "text": [
      "epochs: 100  loss: 0.5089\n",
      "epochs: 200  loss: 0.4549\n",
      "epochs: 300  loss: 0.4067\n",
      "epochs: 400  loss: 0.3636\n",
      "epochs: 500  loss: 0.3250\n",
      "epochs: 600  loss: 0.2906\n",
      "epochs: 700  loss: 0.2598\n",
      "epochs: 800  loss: 0.2323\n",
      "epochs: 900  loss: 0.2077\n",
      "epochs: 1000  loss: 0.1857\n",
      "epochs: 1100  loss: 0.1660\n",
      "epochs: 1200  loss: 0.1484\n",
      "epochs: 1300  loss: 0.1327\n",
      "epochs: 1400  loss: 0.1186\n",
      "epochs: 1500  loss: 0.1060\n",
      "epochs: 1600  loss: 0.0948\n",
      "epochs: 1700  loss: 0.0848\n",
      "epochs: 1800  loss: 0.0758\n",
      "epochs: 1900  loss: 0.0677\n",
      "epochs: 2000  loss: 0.0606\n",
      "epochs: 2100  loss: 0.0542\n",
      "epochs: 2200  loss: 0.0484\n",
      "epochs: 2300  loss: 0.0433\n",
      "epochs: 2400  loss: 0.0387\n",
      "epochs: 2500  loss: 0.0346\n",
      "epochs: 2600  loss: 0.0309\n",
      "epochs: 2700  loss: 0.0277\n",
      "epochs: 2800  loss: 0.0247\n",
      "epochs: 2900  loss: 0.0221\n",
      "epochs: 3000  loss: 0.0198\n",
      "epochs: 3100  loss: 0.0177\n",
      "epochs: 3200  loss: 0.0158\n",
      "epochs: 3300  loss: 0.0141\n",
      "epochs: 3400  loss: 0.0126\n",
      "epochs: 3500  loss: 0.0113\n",
      "epochs: 3600  loss: 0.0101\n",
      "epochs: 3700  loss: 0.0090\n",
      "epochs: 3800  loss: 0.0081\n",
      "epochs: 3900  loss: 0.0072\n",
      "epochs: 4000  loss: 0.0064\n",
      "epochs: 4100  loss: 0.0058\n",
      "epochs: 4200  loss: 0.0052\n",
      "epochs: 4300  loss: 0.0046\n",
      "epochs: 4400  loss: 0.0041\n",
      "epochs: 4500  loss: 0.0037\n",
      "epochs: 4600  loss: 0.0033\n",
      "epochs: 4700  loss: 0.0029\n",
      "epochs: 4800  loss: 0.0026\n",
      "epochs: 4900  loss: 0.0024\n",
      "epochs: 5000  loss: 0.0021\n"
     ]
    }
   ],
   "source": [
    "criterion = nn.MSELoss()\n",
    "optimizer = torch.optim.SGD(model.parameters(), lr=0.001)\n",
    "\n",
    "epochs = 5000\n",
    "losses = []\n",
    "losses_item = []\n",
    "x_train_val = []\n",
    "y_pred_val = []\n",
    "y_train_val = []\n",
    "\n",
    "for i in range(epochs):\n",
    "    i += 1\n",
    "    inputs = Variable(torch.from_numpy(X_train))\n",
    "    labels = Variable(torch.from_numpy(y_train))\n",
    "    inputs = torch.nan_to_num(inputs)\n",
    "    labels = torch.nan_to_num(labels)\n",
    "    optimizer.zero_grad()\n",
    "    y_pred = model(inputs.float())\n",
    "    loss = criterion(y_pred, labels.float())\n",
    "    losses_item.append(loss.item())\n",
    "    loss.backward()\n",
    "    optimizer.step()\n",
    "    if (i+1) == epochs:\n",
    "        x_train_val = inputs\n",
    "        y_pred_val = y_pred\n",
    "        y_train_val = labels\n",
    "    if i%100 == 0:\n",
    "        print(f'epochs: {i}  loss: {loss.item():.4f}')"
   ],
   "metadata": {
    "collapsed": false,
    "pycharm": {
     "name": "#%%\n"
    }
   }
  },
  {
   "cell_type": "code",
   "execution_count": 359,
   "outputs": [
    {
     "data": {
      "text/plain": "<Figure size 432x288 with 1 Axes>",
      "image/png": "[encoded data removed]"
     },
     "metadata": {
      "needs_background": "light"
     },
     "output_type": "display_data"
    }
   ],
   "source": [
    "plt.plot(range(epochs),losses_item)\n",
    "plt.show()"
   ],
   "metadata": {
    "collapsed": false,
    "pycharm": {
     "name": "#%%\n"
    }
   }
  },
  {
   "cell_type": "code",
   "execution_count": 360,
   "outputs": [
    {
     "data": {
      "text/plain": "<Figure size 432x288 with 1 Axes>",
      "image/png": "[encoded data removed]"
     },
     "metadata": {
      "needs_background": "light"
     },
     "output_type": "display_data"
    }
   ],
   "source": [
    "plt.scatter(x_train_val,y_train_val)\n",
    "plt.show()"
   ],
   "metadata": {
    "collapsed": false,
    "pycharm": {
     "name": "#%%\n"
    }
   }
  },
  {
   "cell_type": "code",
   "execution_count": 361,
   "outputs": [
    {
     "data": {
      "text/plain": "<Figure size 432x288 with 1 Axes>",
      "image/png": "[encoded data removed]"
     },
     "metadata": {
      "needs_background": "light"
     },
     "output_type": "display_data"
    }
   ],
   "source": [
    "plt.scatter(x_train_val,y_pred_val.detach().numpy())\n",
    "plt.show()"
   ],
   "metadata": {
    "collapsed": false,
    "pycharm": {
     "name": "#%%\n"
    }
   }
  }
 ],
 "metadata": {
  "kernelspec": {
   "display_name": "Python 3",
   "language": "python",
   "name": "python3"
  },
  "language_info": {
   "codemirror_mode": {
    "name": "ipython",
    "version": 2
   },
   "file_extension": ".py",
   "mimetype": "text/x-python",
   "name": "python",
   "nbconvert_exporter": "python",
   "pygments_lexer": "ipython2",
   "version": "2.7.6"
  }
 },
 "nbformat": 4,
 "nbformat_minor": 0
}