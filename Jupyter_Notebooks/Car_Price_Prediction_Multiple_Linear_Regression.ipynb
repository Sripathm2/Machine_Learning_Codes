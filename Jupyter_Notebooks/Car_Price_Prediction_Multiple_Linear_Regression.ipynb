{
 "cells": [
  {
   "cell_type": "code",
   "execution_count": 154,
   "metadata": {
    "collapsed": true
   },
   "outputs": [],
   "source": [
    "import torch\n",
    "import torch.nn as nn\n",
    "import pandas as pd\n",
    "import numpy as np\n",
    "import torch.nn.functional as F\n",
    "import matplotlib.pyplot as plt\n",
    "from sklearn.preprocessing import normalize, OneHotEncoder\n",
    "from sklearn.model_selection import train_test_split"
   ]
  },
  {
   "cell_type": "code",
   "execution_count": 155,
   "outputs": [
    {
     "data": {
      "text/plain": "   car_ID  symboling                   CarName fueltype aspiration doornumber  \\\n0       1          3        alfa-romero giulia      gas        std        two   \n1       2          3       alfa-romero stelvio      gas        std        two   \n2       3          1  alfa-romero Quadrifoglio      gas        std        two   \n3       4          2               audi 100 ls      gas        std       four   \n4       5          2                audi 100ls      gas        std       four   \n\n       carbody drivewheel enginelocation  wheelbase  ...  enginesize  \\\n0  convertible        rwd          front       88.6  ...         130   \n1  convertible        rwd          front       88.6  ...         130   \n2    hatchback        rwd          front       94.5  ...         152   \n3        sedan        fwd          front       99.8  ...         109   \n4        sedan        4wd          front       99.4  ...         136   \n\n   fuelsystem  boreratio  stroke compressionratio horsepower  peakrpm citympg  \\\n0        mpfi       3.47    2.68              9.0        111     5000      21   \n1        mpfi       3.47    2.68              9.0        111     5000      21   \n2        mpfi       2.68    3.47              9.0        154     5000      19   \n3        mpfi       3.19    3.40             10.0        102     5500      24   \n4        mpfi       3.19    3.40              8.0        115     5500      18   \n\n   highwaympg    price  \n0          27  13495.0  \n1          27  16500.0  \n2          26  16500.0  \n3          30  13950.0  \n4          22  17450.0  \n\n[5 rows x 26 columns]",
      "text/html": "<div>\n<style scoped>\n    .dataframe tbody tr th:only-of-type {\n        vertical-align: middle;\n    }\n\n    .dataframe tbody tr th {\n        vertical-align: top;\n    }\n\n    .dataframe thead th {\n        text-align: right;\n    }\n</style>\n<table border=\"1\" class=\"dataframe\">\n  <thead>\n    <tr style=\"text-align: right;\">\n      <th></th>\n      <th>car_ID</th>\n      <th>symboling</th>\n      <th>CarName</th>\n      <th>fueltype</th>\n      <th>aspiration</th>\n      <th>doornumber</th>\n      <th>carbody</th>\n      <th>drivewheel</th>\n      <th>enginelocation</th>\n      <th>wheelbase</th>\n      <th>...</th>\n      <th>enginesize</th>\n      <th>fuelsystem</th>\n      <th>boreratio</th>\n      <th>stroke</th>\n      <th>compressionratio</th>\n      <th>horsepower</th>\n      <th>peakrpm</th>\n      <th>citympg</th>\n      <th>highwaympg</th>\n      <th>price</th>\n    </tr>\n  </thead>\n  <tbody>\n    <tr>\n      <th>0</th>\n      <td>1</td>\n      <td>3</td>\n      <td>alfa-romero giulia</td>\n      <td>gas</td>\n      <td>std</td>\n      <td>two</td>\n      <td>convertible</td>\n      <td>rwd</td>\n      <td>front</td>\n      <td>88.6</td>\n      <td>...</td>\n      <td>130</td>\n      <td>mpfi</td>\n      <td>3.47</td>\n      <td>2.68</td>\n      <td>9.0</td>\n      <td>111</td>\n      <td>5000</td>\n      <td>21</td>\n      <td>27</td>\n      <td>13495.0</td>\n    </tr>\n    <tr>\n      <th>1</th>\n      <td>2</td>\n      <td>3</td>\n      <td>alfa-romero stelvio</td>\n      <td>gas</td>\n      <td>std</td>\n      <td>two</td>\n      <td>convertible</td>\n      <td>rwd</td>\n      <td>front</td>\n      <td>88.6</td>\n      <td>...</td>\n      <td>130</td>\n      <td>mpfi</td>\n      <td>3.47</td>\n      <td>2.68</td>\n      <td>9.0</td>\n      <td>111</td>\n      <td>5000</td>\n      <td>21</td>\n      <td>27</td>\n      <td>16500.0</td>\n    </tr>\n    <tr>\n      <th>2</th>\n      <td>3</td>\n      <td>1</td>\n      <td>alfa-romero Quadrifoglio</td>\n      <td>gas</td>\n      <td>std</td>\n      <td>two</td>\n      <td>hatchback</td>\n      <td>rwd</td>\n      <td>front</td>\n      <td>94.5</td>\n      <td>...</td>\n      <td>152</td>\n      <td>mpfi</td>\n      <td>2.68</td>\n      <td>3.47</td>\n      <td>9.0</td>\n      <td>154</td>\n      <td>5000</td>\n      <td>19</td>\n      <td>26</td>\n      <td>16500.0</td>\n    </tr>\n    <tr>\n      <th>3</th>\n      <td>4</td>\n      <td>2</td>\n      <td>audi 100 ls</td>\n      <td>gas</td>\n      <td>std</td>\n      <td>four</td>\n      <td>sedan</td>\n      <td>fwd</td>\n      <td>front</td>\n      <td>99.8</td>\n      <td>...</td>\n      <td>109</td>\n      <td>mpfi</td>\n      <td>3.19</td>\n      <td>3.40</td>\n      <td>10.0</td>\n      <td>102</td>\n      <td>5500</td>\n      <td>24</td>\n      <td>30</td>\n      <td>13950.0</td>\n    </tr>\n    <tr>\n      <th>4</th>\n      <td>5</td>\n      <td>2</td>\n      <td>audi 100ls</td>\n      <td>gas</td>\n      <td>std</td>\n      <td>four</td>\n      <td>sedan</td>\n      <td>4wd</td>\n      <td>front</td>\n      <td>99.4</td>\n      <td>...</td>\n      <td>136</td>\n      <td>mpfi</td>\n      <td>3.19</td>\n      <td>3.40</td>\n      <td>8.0</td>\n      <td>115</td>\n      <td>5500</td>\n      <td>18</td>\n      <td>22</td>\n      <td>17450.0</td>\n    </tr>\n  </tbody>\n</table>\n<p>5 rows × 26 columns</p>\n</div>"
     },
     "execution_count": 155,
     "metadata": {},
     "output_type": "execute_result"
    }
   ],
   "source": [
    "df = pd.read_csv('../Datasets/Car_Price_Prediction/CarPrice_Assignment.csv')\n",
    "df.head()"
   ],
   "metadata": {
    "collapsed": false,
    "pycharm": {
     "name": "#%%\n"
    }
   }
  },
  {
   "cell_type": "code",
   "execution_count": 156,
   "outputs": [
    {
     "name": "stdout",
     "output_type": "stream",
     "text": [
      "<class 'pandas.core.frame.DataFrame'>\n",
      "RangeIndex: 205 entries, 0 to 204\n",
      "Data columns (total 26 columns):\n",
      " #   Column            Non-Null Count  Dtype  \n",
      "---  ------            --------------  -----  \n",
      " 0   car_ID            205 non-null    int64  \n",
      " 1   symboling         205 non-null    int64  \n",
      " 2   CarName           205 non-null    object \n",
      " 3   fueltype          205 non-null    object \n",
      " 4   aspiration        205 non-null    object \n",
      " 5   doornumber        205 non-null    object \n",
      " 6   carbody           205 non-null    object \n",
      " 7   drivewheel        205 non-null    object \n",
      " 8   enginelocation    205 non-null    object \n",
      " 9   wheelbase         205 non-null    float64\n",
      " 10  carlength         205 non-null    float64\n",
      " 11  carwidth          205 non-null    float64\n",
      " 12  carheight         205 non-null    float64\n",
      " 13  curbweight        205 non-null    int64  \n",
      " 14  enginetype        205 non-null    object \n",
      " 15  cylindernumber    205 non-null    object \n",
      " 16  enginesize        205 non-null    int64  \n",
      " 17  fuelsystem        205 non-null    object \n",
      " 18  boreratio         205 non-null    float64\n",
      " 19  stroke            205 non-null    float64\n",
      " 20  compressionratio  205 non-null    float64\n",
      " 21  horsepower        205 non-null    int64  \n",
      " 22  peakrpm           205 non-null    int64  \n",
      " 23  citympg           205 non-null    int64  \n",
      " 24  highwaympg        205 non-null    int64  \n",
      " 25  price             205 non-null    float64\n",
      "dtypes: float64(8), int64(8), object(10)\n",
      "memory usage: 41.8+ KB\n"
     ]
    }
   ],
   "source": [
    "df.info()"
   ],
   "metadata": {
    "collapsed": false,
    "pycharm": {
     "name": "#%%\n"
    }
   }
  },
  {
   "cell_type": "code",
   "execution_count": 157,
   "outputs": [
    {
     "data": {
      "text/plain": "car_ID              0\nsymboling           0\nCarName             0\nfueltype            0\naspiration          0\ndoornumber          0\ncarbody             0\ndrivewheel          0\nenginelocation      0\nwheelbase           0\ncarlength           0\ncarwidth            0\ncarheight           0\ncurbweight          0\nenginetype          0\ncylindernumber      0\nenginesize          0\nfuelsystem          0\nboreratio           0\nstroke              0\ncompressionratio    0\nhorsepower          0\npeakrpm             0\ncitympg             0\nhighwaympg          0\nprice               0\ndtype: int64"
     },
     "execution_count": 157,
     "metadata": {},
     "output_type": "execute_result"
    }
   ],
   "source": [
    "df.isnull().sum()"
   ],
   "metadata": {
    "collapsed": false,
    "pycharm": {
     "name": "#%%\n"
    }
   }
  },
  {
   "cell_type": "code",
   "execution_count": 158,
   "outputs": [],
   "source": [
    "processed_df = pd.DataFrame()\n",
    "for col in df.columns:\n",
    "    if df[col].dtype == 'int64' or df[col].dtype == 'float64':\n",
    "        if processed_df.empty:\n",
    "            processed_df = processed_df.append(df[[col]])\n",
    "        else:\n",
    "            processed_df = processed_df.join(df[col], lsuffix=col)\n",
    "    else:\n",
    "        enc = OneHotEncoder()\n",
    "        state_encoding = enc.fit_transform(df[[col]]).toarray()\n",
    "        state_df = pd.DataFrame(state_encoding)\n",
    "        if processed_df.empty:\n",
    "            processed_df = processed_df.append(state_df)\n",
    "        else:\n",
    "            processed_df = processed_df.join(state_df, lsuffix=col)"
   ],
   "metadata": {
    "collapsed": false,
    "pycharm": {
     "name": "#%%\n"
    }
   }
  },
  {
   "cell_type": "code",
   "execution_count": 159,
   "outputs": [
    {
     "data": {
      "text/plain": "   symboling  0fueltype  1fueltype  2carbody  3carbody  4carbody  5enginetype  \\\n0          3        0.0        0.0       1.0       0.0       0.0          0.0   \n1          3        0.0        0.0       0.0       1.0       0.0          0.0   \n2          1        0.0        1.0       0.0       0.0       0.0          0.0   \n3          2        0.0        0.0       0.0       0.0       1.0          0.0   \n4          2        0.0        0.0       0.0       0.0       0.0          1.0   \n\n   6enginetype  7fuelsystem    8  ...    6    7  boreratio  stroke  \\\n0          0.0          0.0  0.0  ...  0.0  0.0       3.47    2.68   \n1          0.0          0.0  0.0  ...  0.0  0.0       3.47    2.68   \n2          0.0          0.0  0.0  ...  0.0  0.0       2.68    3.47   \n3          0.0          0.0  0.0  ...  0.0  0.0       3.19    3.40   \n4          0.0          0.0  0.0  ...  0.0  0.0       3.19    3.40   \n\n   compressionratio  horsepower  peakrpm  citympg  highwaympg    price  \n0               9.0         111     5000       21          27  13495.0  \n1               9.0         111     5000       21          27  16500.0  \n2               9.0         154     5000       19          26  16500.0  \n3              10.0         102     5500       24          30  13950.0  \n4               8.0         115     5500       18          22  17450.0  \n\n[5 rows x 200 columns]",
      "text/html": "<div>\n<style scoped>\n    .dataframe tbody tr th:only-of-type {\n        vertical-align: middle;\n    }\n\n    .dataframe tbody tr th {\n        vertical-align: top;\n    }\n\n    .dataframe thead th {\n        text-align: right;\n    }\n</style>\n<table border=\"1\" class=\"dataframe\">\n  <thead>\n    <tr style=\"text-align: right;\">\n      <th></th>\n      <th>symboling</th>\n      <th>0fueltype</th>\n      <th>1fueltype</th>\n      <th>2carbody</th>\n      <th>3carbody</th>\n      <th>4carbody</th>\n      <th>5enginetype</th>\n      <th>6enginetype</th>\n      <th>7fuelsystem</th>\n      <th>8</th>\n      <th>...</th>\n      <th>6</th>\n      <th>7</th>\n      <th>boreratio</th>\n      <th>stroke</th>\n      <th>compressionratio</th>\n      <th>horsepower</th>\n      <th>peakrpm</th>\n      <th>citympg</th>\n      <th>highwaympg</th>\n      <th>price</th>\n    </tr>\n  </thead>\n  <tbody>\n    <tr>\n      <th>0</th>\n      <td>3</td>\n      <td>0.0</td>\n      <td>0.0</td>\n      <td>1.0</td>\n      <td>0.0</td>\n      <td>0.0</td>\n      <td>0.0</td>\n      <td>0.0</td>\n      <td>0.0</td>\n      <td>0.0</td>\n      <td>...</td>\n      <td>0.0</td>\n      <td>0.0</td>\n      <td>3.47</td>\n      <td>2.68</td>\n      <td>9.0</td>\n      <td>111</td>\n      <td>5000</td>\n      <td>21</td>\n      <td>27</td>\n      <td>13495.0</td>\n    </tr>\n    <tr>\n      <th>1</th>\n      <td>3</td>\n      <td>0.0</td>\n      <td>0.0</td>\n      <td>0.0</td>\n      <td>1.0</td>\n      <td>0.0</td>\n      <td>0.0</td>\n      <td>0.0</td>\n      <td>0.0</td>\n      <td>0.0</td>\n      <td>...</td>\n      <td>0.0</td>\n      <td>0.0</td>\n      <td>3.47</td>\n      <td>2.68</td>\n      <td>9.0</td>\n      <td>111</td>\n      <td>5000</td>\n      <td>21</td>\n      <td>27</td>\n      <td>16500.0</td>\n    </tr>\n    <tr>\n      <th>2</th>\n      <td>1</td>\n      <td>0.0</td>\n      <td>1.0</td>\n      <td>0.0</td>\n      <td>0.0</td>\n      <td>0.0</td>\n      <td>0.0</td>\n      <td>0.0</td>\n      <td>0.0</td>\n      <td>0.0</td>\n      <td>...</td>\n      <td>0.0</td>\n      <td>0.0</td>\n      <td>2.68</td>\n      <td>3.47</td>\n      <td>9.0</td>\n      <td>154</td>\n      <td>5000</td>\n      <td>19</td>\n      <td>26</td>\n      <td>16500.0</td>\n    </tr>\n    <tr>\n      <th>3</th>\n      <td>2</td>\n      <td>0.0</td>\n      <td>0.0</td>\n      <td>0.0</td>\n      <td>0.0</td>\n      <td>1.0</td>\n      <td>0.0</td>\n      <td>0.0</td>\n      <td>0.0</td>\n      <td>0.0</td>\n      <td>...</td>\n      <td>0.0</td>\n      <td>0.0</td>\n      <td>3.19</td>\n      <td>3.40</td>\n      <td>10.0</td>\n      <td>102</td>\n      <td>5500</td>\n      <td>24</td>\n      <td>30</td>\n      <td>13950.0</td>\n    </tr>\n    <tr>\n      <th>4</th>\n      <td>2</td>\n      <td>0.0</td>\n      <td>0.0</td>\n      <td>0.0</td>\n      <td>0.0</td>\n      <td>0.0</td>\n      <td>1.0</td>\n      <td>0.0</td>\n      <td>0.0</td>\n      <td>0.0</td>\n      <td>...</td>\n      <td>0.0</td>\n      <td>0.0</td>\n      <td>3.19</td>\n      <td>3.40</td>\n      <td>8.0</td>\n      <td>115</td>\n      <td>5500</td>\n      <td>18</td>\n      <td>22</td>\n      <td>17450.0</td>\n    </tr>\n  </tbody>\n</table>\n<p>5 rows × 200 columns</p>\n</div>"
     },
     "execution_count": 159,
     "metadata": {},
     "output_type": "execute_result"
    }
   ],
   "source": [
    "processed_df = processed_df.drop(['car_ID'], axis=1)\n",
    "processed_df.head()"
   ],
   "metadata": {
    "collapsed": false,
    "pycharm": {
     "name": "#%%\n"
    }
   }
  },
  {
   "cell_type": "code",
   "execution_count": 160,
   "outputs": [],
   "source": [
    "y = processed_df['price'].values\n",
    "processed_df = processed_df.drop(['price'], axis=1)\n",
    "x = processed_df.to_numpy()"
   ],
   "metadata": {
    "collapsed": false,
    "pycharm": {
     "name": "#%%\n"
    }
   }
  },
  {
   "cell_type": "code",
   "execution_count": 161,
   "outputs": [],
   "source": [
    "x = normalize(x)\n",
    "y = normalize(y.reshape(-1,1), axis=0)"
   ],
   "metadata": {
    "collapsed": false,
    "pycharm": {
     "name": "#%%\n"
    }
   }
  },
  {
   "cell_type": "code",
   "execution_count": 162,
   "outputs": [],
   "source": [
    "x_train, x_test, y_train, y_test = train_test_split(x,y,test_size=0.2,random_state=33, shuffle=True)\n",
    "x_test, x_validation, y_test, y_validation = train_test_split(x_test,y_test,test_size=0.2,random_state=33, shuffle=True)"
   ],
   "metadata": {
    "collapsed": false,
    "pycharm": {
     "name": "#%%\n"
    }
   }
  },
  {
   "cell_type": "code",
   "execution_count": 163,
   "outputs": [],
   "source": [
    "x_train = torch.FloatTensor(x_train)\n",
    "y_train = torch.FloatTensor(y_train)\n",
    "x_test = torch.FloatTensor(x_test)\n",
    "y_test = torch.FloatTensor(y_test)\n",
    "x_validation = torch.FloatTensor(x_validation)\n",
    "y_validation = torch.FloatTensor(y_validation)"
   ],
   "metadata": {
    "collapsed": false,
    "pycharm": {
     "name": "#%%\n"
    }
   }
  },
  {
   "cell_type": "code",
   "execution_count": 164,
   "outputs": [],
   "source": [
    "class Model(nn.Module):\n",
    "    def __init__(self, in_features=199, h1=256, h2=128, h3=64, h4=32, h5=16, h6=8,  out_features=1):\n",
    "        super().__init__()\n",
    "        self.fc1 = nn.Linear(in_features,h1)\n",
    "        self.fc2 = nn.Linear(h1, h2)\n",
    "        self.fc3 = nn.Linear(h2, h3)\n",
    "        self.fc4 = nn.Linear(h3, h4)\n",
    "        self.fc5 = nn.Linear(h4, h5)\n",
    "        self.fc6 = nn.Linear(h5, h6)\n",
    "        self.out = nn.Linear(h6, out_features)\n",
    "\n",
    "    def forward(self, x):\n",
    "        x = F.relu(self.fc1(x))\n",
    "        x = F.relu(self.fc2(x))\n",
    "        x = F.relu(self.fc3(x))\n",
    "        x = F.relu(self.fc4(x))\n",
    "        x = F.relu(self.fc5(x))\n",
    "        x = F.relu(self.fc6(x))\n",
    "        x = self.out(x)\n",
    "        return x"
   ],
   "metadata": {
    "collapsed": false,
    "pycharm": {
     "name": "#%%\n"
    }
   }
  },
  {
   "cell_type": "code",
   "execution_count": 165,
   "outputs": [],
   "source": [
    "model = Model()\n",
    "criterion = nn.L1Loss() # good for multilayer regression similar to mse but robust to outliers.\n",
    "optimizer = torch.optim.Adam(model.parameters(), lr=0.01)"
   ],
   "metadata": {
    "collapsed": false,
    "pycharm": {
     "name": "#%%\n"
    }
   }
  },
  {
   "cell_type": "code",
   "execution_count": 166,
   "outputs": [
    {
     "name": "stdout",
     "output_type": "stream",
     "text": [
      "epoch:  1  loss: 0.19582874\n",
      "epoch: 1001  loss: 0.00486927\n",
      "epoch: 2001  loss: 0.00275221\n",
      "epoch: 3001  loss: 0.00300331\n",
      "epoch: 4001  loss: 0.00312773\n",
      "epoch: 5001  loss: 0.00268352\n",
      "epoch: 6001  loss: 0.00304671\n",
      "epoch: 7001  loss: 0.00235868\n",
      "epoch: 8001  loss: 0.00146740\n",
      "epoch: 9001  loss: 0.00582187\n"
     ]
    }
   ],
   "source": [
    "epochs =10000\n",
    "losses = []\n",
    "for i in range(epochs):\n",
    "    i+=1\n",
    "    optimizer.zero_grad()\n",
    "    y_pred = model.forward(x_train)\n",
    "    loss = criterion(y_pred, y_train)\n",
    "    losses.append(loss.item())\n",
    "\n",
    "    if i%1000 == 1:\n",
    "        print(f'epoch: {i:2}  loss: {loss.item():10.8f}')\n",
    "\n",
    "    loss.backward()\n",
    "    optimizer.step()"
   ],
   "metadata": {
    "collapsed": false,
    "pycharm": {
     "name": "#%%\n"
    }
   }
  },
  {
   "cell_type": "code",
   "execution_count": 167,
   "outputs": [
    {
     "data": {
      "text/plain": "[<matplotlib.lines.Line2D at 0x7fd419b939a0>]"
     },
     "execution_count": 167,
     "metadata": {},
     "output_type": "execute_result"
    },
    {
     "data": {
      "text/plain": "<Figure size 432x288 with 1 Axes>",
      "image/png": "[encoded data removed]"
     },
     "metadata": {
      "needs_background": "light"
     },
     "output_type": "display_data"
    }
   ],
   "source": [
    "plt.plot(range(epochs), losses)"
   ],
   "metadata": {
    "collapsed": false,
    "pycharm": {
     "name": "#%%\n"
    }
   }
  },
  {
   "cell_type": "code",
   "execution_count": 168,
   "outputs": [
    {
     "name": "stdout",
     "output_type": "stream",
     "text": [
      "0.01247840\n"
     ]
    }
   ],
   "source": [
    "with torch.no_grad():\n",
    "    y_val = model.forward(x_test)\n",
    "    loss = criterion(y_val, y_test)\n",
    "print(f'{loss:.8f}')"
   ],
   "metadata": {
    "collapsed": false,
    "pycharm": {
     "name": "#%%\n"
    }
   }
  },
  {
   "cell_type": "code",
   "execution_count": 169,
   "outputs": [
    {
     "name": "stdout",
     "output_type": "stream",
     "text": [
      "\n",
      "31 out of 32 = 96.88% correct\n"
     ]
    }
   ],
   "source": [
    "error_rate = 0.0500\n",
    "correct = 0\n",
    "with torch.no_grad():\n",
    "    for i in range(len(x_test)):\n",
    "        y_val = model.forward(x_test[i])\n",
    "        if abs(y_val.item()-y_test[i].item()) < error_rate:\n",
    "            correct += 1\n",
    "print(f'\\n{correct} out of {len(y_test)} = {100*correct/len(y_test):.2f}% correct')"
   ],
   "metadata": {
    "collapsed": false,
    "pycharm": {
     "name": "#%%\n"
    }
   }
  },
  {
   "cell_type": "code",
   "execution_count": 170,
   "outputs": [
    {
     "data": {
      "text/plain": "Model(\n  (fc1): Linear(in_features=199, out_features=256, bias=True)\n  (fc2): Linear(in_features=256, out_features=128, bias=True)\n  (fc3): Linear(in_features=128, out_features=64, bias=True)\n  (fc4): Linear(in_features=64, out_features=32, bias=True)\n  (fc5): Linear(in_features=32, out_features=16, bias=True)\n  (fc6): Linear(in_features=16, out_features=8, bias=True)\n  (out): Linear(in_features=8, out_features=1, bias=True)\n)"
     },
     "execution_count": 170,
     "metadata": {},
     "output_type": "execute_result"
    }
   ],
   "source": [
    "model.eval()"
   ],
   "metadata": {
    "collapsed": false,
    "pycharm": {
     "name": "#%%\n"
    }
   }
  },
  {
   "cell_type": "code",
   "execution_count": 171,
   "outputs": [
    {
     "name": "stdout",
     "output_type": "stream",
     "text": [
      "tensor([0.0452]) : tensor([0.0419])\n",
      "tensor([0.0349]) : tensor([0.0334])\n",
      "tensor([0.0317]) : tensor([0.0322])\n",
      "tensor([0.0605]) : tensor([0.0760])\n",
      "tensor([0.0728]) : tensor([0.0600])\n",
      "tensor([0.0765]) : tensor([0.0710])\n",
      "tensor([0.0317]) : tensor([0.0331])\n",
      "tensor([0.0322]) : tensor([0.0300])\n",
      "tensor([0.0774]) : tensor([0.0625])\n"
     ]
    }
   ],
   "source": [
    "with torch.no_grad():\n",
    "    for i in range(len(x_validation)):\n",
    "        y_val = model(x_validation[i])\n",
    "        print(str(y_val) + ' : ' + str(y_validation[i]))"
   ],
   "metadata": {
    "collapsed": false,
    "pycharm": {
     "name": "#%%\n"
    }
   }
  }
 ],
 "metadata": {
  "kernelspec": {
   "display_name": "Python 3",
   "language": "python",
   "name": "python3"
  },
  "language_info": {
   "codemirror_mode": {
    "name": "ipython",
    "version": 2
   },
   "file_extension": ".py",
   "mimetype": "text/x-python",
   "name": "python",
   "nbconvert_exporter": "python",
   "pygments_lexer": "ipython2",
   "version": "2.7.6"
  }
 },
 "nbformat": 4,
 "nbformat_minor": 0
}