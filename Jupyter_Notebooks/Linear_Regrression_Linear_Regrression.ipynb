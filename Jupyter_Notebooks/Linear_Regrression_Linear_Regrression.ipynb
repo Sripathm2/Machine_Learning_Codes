{
 "cells": [
  {
   "cell_type": "code",
   "execution_count": 1,
   "outputs": [],
   "source": [
    "import torch\n",
    "import torch.nn as nn\n",
    "import pandas as pd\n",
    "import numpy as np\n",
    "import matplotlib.pyplot as plt\n",
    "from sklearn.preprocessing import normalize\n",
    "from sklearn.model_selection import train_test_split\n",
    "from torch.autograd import Variable"
   ],
   "metadata": {
    "collapsed": false,
    "pycharm": {
     "name": "#%%\n"
    }
   }
  },
  {
   "cell_type": "code",
   "execution_count": 2,
   "outputs": [],
   "source": [
    "df_train = pd.read_csv('../Datasets/Linear_Regression/train.csv')\n",
    "df_test = pd.read_csv('../Datasets/Linear_Regression/test.csv')"
   ],
   "metadata": {
    "collapsed": false,
    "pycharm": {
     "name": "#%%\n"
    }
   }
  },
  {
   "cell_type": "code",
   "execution_count": 3,
   "outputs": [],
   "source": [
    "x_train = df_train['x'].values\n",
    "y_train = df_train['y'].values.round(2)\n",
    "x_test = df_test['x'].values\n",
    "y_test = df_test['y'].values.round(2)"
   ],
   "metadata": {
    "collapsed": false,
    "pycharm": {
     "name": "#%%\n"
    }
   }
  },
  {
   "cell_type": "code",
   "execution_count": 4,
   "outputs": [],
   "source": [
    "x_train_temp = []\n",
    "y_train_temp = []\n",
    "divideby = 100\n",
    "\n",
    "for i in range(len(x_train)):\n",
    "    #if X_train[i] not in X_train_temp:\n",
    "    x_train_temp.append((x_train[i]/divideby))\n",
    "    y_train_temp.append((y_train[i]/divideby))\n",
    "\n",
    "for i in range(len(x_test)):\n",
    "    #if X_test[i] not in X_train_temp:\n",
    "    x_train_temp.append((x_test[i]/divideby))\n",
    "    y_train_temp.append((y_test[i]/divideby))\n",
    "\n",
    "x_train = x_train_temp\n",
    "y_train = y_train_temp"
   ],
   "metadata": {
    "collapsed": false,
    "pycharm": {
     "name": "#%%\n"
    }
   }
  },
  {
   "cell_type": "code",
   "execution_count": 5,
   "outputs": [],
   "source": [
    "x_train_temp = []\n",
    "y_train_temp = []\n",
    "for i in range(len(x_train)):\n",
    "    if y_train[i] < 0.5:\n",
    "        x_train_temp.append(x_train[i])\n",
    "        y_train_temp.append(y_train[i])\n",
    "\n",
    "x_train = x_train_temp\n",
    "y_train = y_train_temp"
   ],
   "metadata": {
    "collapsed": false,
    "pycharm": {
     "name": "#%%\n"
    }
   }
  },
  {
   "cell_type": "code",
   "execution_count": 6,
   "outputs": [],
   "source": [
    "x_train = normalize([x_train])[0]\n",
    "y_train = normalize([y_train])[0]"
   ],
   "metadata": {
    "collapsed": false,
    "pycharm": {
     "name": "#%%\n"
    }
   }
  },
  {
   "cell_type": "code",
   "execution_count": 7,
   "outputs": [],
   "source": [
    "x_train, x_test, y_train, y_test = train_test_split(x_train,y_train,test_size=0.2,random_state=33)\n",
    "x_test, x_validation, y_test, y_validation = train_test_split(x_test,y_test,test_size=0.2,random_state=33)"
   ],
   "metadata": {
    "collapsed": false,
    "pycharm": {
     "name": "#%%\n"
    }
   }
  },
  {
   "cell_type": "code",
   "execution_count": 8,
   "outputs": [],
   "source": [
    "x_train = np.array(x_train).reshape(-1,1)\n",
    "y_train = np.array(y_train).reshape(-1,1)\n",
    "x_test = np.array(x_test).reshape(-1,1)\n",
    "y_test = np.array(y_test).reshape(-1,1)\n",
    "x_validation = np.array(x_validation).reshape(-1,1)\n",
    "y_validation = np.array(y_validation).reshape(-1,1)"
   ],
   "metadata": {
    "collapsed": false,
    "pycharm": {
     "name": "#%%\n"
    }
   }
  },
  {
   "cell_type": "code",
   "execution_count": 9,
   "outputs": [
    {
     "data": {
      "text/plain": "<Figure size 432x288 with 1 Axes>",
      "image/png": "[encoded data removed]"
     },
     "metadata": {
      "needs_background": "light"
     },
     "output_type": "display_data"
    }
   ],
   "source": [
    "plt.scatter(x_train,y_train)\n",
    "plt.show()"
   ],
   "metadata": {
    "collapsed": false,
    "pycharm": {
     "name": "#%%\n"
    }
   }
  },
  {
   "cell_type": "code",
   "execution_count": 10,
   "outputs": [],
   "source": [
    "class Model(torch.nn.Module):\n",
    "    def __init__(self):\n",
    "        super().__init__()\n",
    "        self.fc1 = nn.Linear(1,1)\n",
    "    def forward(self,X):\n",
    "        X = self.fc1(X)\n",
    "        return X"
   ],
   "metadata": {
    "collapsed": false,
    "pycharm": {
     "name": "#%%\n"
    }
   }
  },
  {
   "cell_type": "code",
   "execution_count": 11,
   "outputs": [
    {
     "data": {
      "text/plain": "Model(\n  (fc1): Linear(in_features=1, out_features=1, bias=True)\n)"
     },
     "execution_count": 11,
     "metadata": {},
     "output_type": "execute_result"
    }
   ],
   "source": [
    "model = Model()\n",
    "model"
   ],
   "metadata": {
    "collapsed": false,
    "pycharm": {
     "name": "#%%\n"
    }
   }
  },
  {
   "cell_type": "code",
   "execution_count": 12,
   "outputs": [],
   "source": [
    "made_up_values = False\n",
    "if made_up_values:\n",
    "    x_values = [i for i in range(11)]\n",
    "    x_train = np.array(x_values, dtype=np.float32)\n",
    "    x_train = x_train.reshape(-1, 1)\n",
    "    y_values = [2*i + 1 for i in x_values]\n",
    "    y_train = np.array(y_values, dtype=np.float32)\n",
    "    y_train = y_train.reshape(-1, 1)"
   ],
   "metadata": {
    "collapsed": false,
    "pycharm": {
     "name": "#%%\n"
    }
   }
  },
  {
   "cell_type": "code",
   "execution_count": 13,
   "outputs": [
    {
     "name": "stdout",
     "output_type": "stream",
     "text": [
      "epochs: 1000  loss: 0.0061\n",
      "epochs: 2000  loss: 0.0004\n",
      "epochs: 3000  loss: 0.0003\n",
      "epochs: 4000  loss: 0.0003\n",
      "epochs: 5000  loss: 0.0003\n"
     ]
    }
   ],
   "source": [
    "criterion = nn.MSELoss()\n",
    "optimizer = torch.optim.SGD(model.parameters(), lr=0.001)\n",
    "epochs = 5000\n",
    "losses = []\n",
    "losses_item = []\n",
    "x_train_val = []\n",
    "y_pred_val = []\n",
    "y_train_val = []\n",
    "inputs = Variable(torch.from_numpy(x_train))\n",
    "labels = Variable(torch.from_numpy(y_train))\n",
    "inputs = torch.nan_to_num(inputs)\n",
    "labels = torch.nan_to_num(labels)\n",
    "\n",
    "for i in range(epochs):\n",
    "    i += 1\n",
    "    optimizer.zero_grad()\n",
    "    y_pred = model(inputs.float())\n",
    "    loss = criterion(y_pred, labels.float())\n",
    "    losses_item.append(loss.item())\n",
    "    loss.backward()\n",
    "    optimizer.step()\n",
    "    if (i+1) == epochs:\n",
    "        x_train_val = inputs\n",
    "        y_pred_val = y_pred\n",
    "        y_train_val = labels\n",
    "    if i%1000 == 0:\n",
    "        print(f'epochs: {i}  loss: {loss.item():.4f}')"
   ],
   "metadata": {
    "collapsed": false,
    "pycharm": {
     "name": "#%%\n"
    }
   }
  },
  {
   "cell_type": "code",
   "execution_count": 14,
   "outputs": [
    {
     "data": {
      "text/plain": "<Figure size 432x288 with 1 Axes>",
      "image/png": "[encoded data removed]"
     },
     "metadata": {
      "needs_background": "light"
     },
     "output_type": "display_data"
    }
   ],
   "source": [
    "plt.plot(range(epochs),losses_item)\n",
    "plt.show()"
   ],
   "metadata": {
    "collapsed": false,
    "pycharm": {
     "name": "#%%\n"
    }
   }
  },
  {
   "cell_type": "code",
   "execution_count": 15,
   "outputs": [
    {
     "data": {
      "text/plain": "<Figure size 432x288 with 1 Axes>",
      "image/png": "[encoded data removed]"
     },
     "metadata": {
      "needs_background": "light"
     },
     "output_type": "display_data"
    }
   ],
   "source": [
    "plt.scatter(x_train_val,y_train_val)\n",
    "plt.show()"
   ],
   "metadata": {
    "collapsed": false,
    "pycharm": {
     "name": "#%%\n"
    }
   }
  },
  {
   "cell_type": "code",
   "execution_count": 16,
   "outputs": [
    {
     "data": {
      "text/plain": "<Figure size 432x288 with 1 Axes>",
      "image/png": "[encoded data removed]"
     },
     "metadata": {
      "needs_background": "light"
     },
     "output_type": "display_data"
    }
   ],
   "source": [
    "plt.scatter(x_train_val,y_pred_val.detach().numpy())\n",
    "plt.show()\n"
   ],
   "metadata": {
    "collapsed": false,
    "pycharm": {
     "name": "#%%\n"
    }
   }
  }
 ],
 "metadata": {
  "kernelspec": {
   "display_name": "Python 3",
   "language": "python",
   "name": "python3"
  },
  "language_info": {
   "codemirror_mode": {
    "name": "ipython",
    "version": 2
   },
   "file_extension": ".py",
   "mimetype": "text/x-python",
   "name": "python",
   "nbconvert_exporter": "python",
   "pygments_lexer": "ipython2",
   "version": "2.7.6"
  }
 },
 "nbformat": 4,
 "nbformat_minor": 0
}