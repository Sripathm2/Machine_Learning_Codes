{
 "cells": [
  {
   "cell_type": "code",
   "execution_count": 11,
   "metadata": {
    "collapsed": true
   },
   "outputs": [],
   "source": [
    "import os\n",
    "import re\n",
    "import string\n",
    "import torch\n",
    "import torch.nn as nn\n",
    "import numpy as np\n",
    "import pandas as pd\n",
    "from sklearn.preprocessing import OneHotEncoder"
   ]
  },
  {
   "cell_type": "code",
   "execution_count": 12,
   "outputs": [],
   "source": [
    "def text_cleaner(text):\n",
    "    return \"\".join(x for x in text if (x not in string.punctuation and x not in string.digits)).lower()\n",
    "\n",
    "\n",
    "first_file = True\n",
    "headline_list = []\n",
    "headlines_text = ''\n",
    "max_token_size = 0\n",
    "for x in os.listdir('../Datasets/New_York_Times_Comments'):\n",
    "    temp_df = pd.read_csv('../Datasets/New_York_Times_Comments/' + x)\n",
    "    temp_df = temp_df['headline']\n",
    "    for headline in temp_df:\n",
    "        if headline != 'Unknown':\n",
    "            cleaned_headline = text_cleaner(headline)\n",
    "            words = re.findall(r'\\w+', cleaned_headline)\n",
    "            headline_list.append(words)\n",
    "            headlines_text += ' ' + cleaned_headline\n",
    "            if len(words) > max_token_size:\n",
    "                max_token_size = len(words)\n",
    "    break"
   ],
   "metadata": {
    "collapsed": false,
    "pycharm": {
     "name": "#%%\n"
    }
   }
  },
  {
   "cell_type": "code",
   "execution_count": 13,
   "outputs": [],
   "source": [
    "all_words = set(re.findall(r'\\w+', headlines_text))\n",
    "all_words = list(all_words)\n",
    "all_words.insert(0,' ')\n",
    "decoder = dict(enumerate(all_words))\n",
    "encoder = {char: ind for ind,char in decoder.items()}"
   ],
   "metadata": {
    "collapsed": false,
    "pycharm": {
     "name": "#%%\n"
    }
   }
  },
  {
   "cell_type": "code",
   "execution_count": 14,
   "outputs": [],
   "source": [
    "encoded_headlines = []\n",
    "for headline in headline_list:\n",
    "    temp_list = []\n",
    "    for word in headline:\n",
    "        temp_list.append(encoder[word])\n",
    "    if len(temp_list) < max_token_size:\n",
    "        num_zero = max_token_size - len(temp_list)\n",
    "        temp_list.extend([0 for i in range(num_zero)])\n",
    "    encoded_headlines.append(np.array(temp_list))\n",
    "\n",
    "#less code but less readability (Eliz code).\n",
    "#encoded_headlines = []\n",
    "#for headline in all_headlines:\n",
    "#    encoded_headlines.append([encoder[word] for word in headline])\n",
    "#    while len(encoded_headlines[-1]) < max_length:\n",
    "#        encoded_headlines[-1].append(0)\n",
    "#    encoded_headlines[-1] = np.array(encoded_headlines[-1])"
   ],
   "metadata": {
    "collapsed": false,
    "pycharm": {
     "name": "#%%\n"
    }
   }
  },
  {
   "cell_type": "code",
   "execution_count": 15,
   "outputs": [
    {
     "name": "stderr",
     "output_type": "stream",
     "text": [
      "/Users/shree/.conda/envs/Machine_Learning_Codes/lib/python3.9/site-packages/sklearn/preprocessing/_encoders.py:80: FutureWarning: elementwise comparison failed; returning scalar instead, but in the future will perform elementwise comparison\n",
      "  if self.categories != 'auto':\n",
      "/Users/shree/.conda/envs/Machine_Learning_Codes/lib/python3.9/site-packages/sklearn/preprocessing/_encoders.py:89: FutureWarning: elementwise comparison failed; returning scalar instead, but in the future will perform elementwise comparison\n",
      "  if self.categories == 'auto':\n"
     ]
    }
   ],
   "source": [
    "categories = np.array([list(decoder.keys()) for i in range(max_token_size) ])\n",
    "enc = OneHotEncoder(categories= categories, handle_unknown='ignore')\n",
    "categories = categories.transpose()\n",
    "enc.fit(categories)\n",
    "one_hot_headlines = np.array(enc.transform(encoded_headlines).toarray())"
   ],
   "metadata": {
    "collapsed": false,
    "pycharm": {
     "name": "#%%\n"
    }
   }
  },
  {
   "cell_type": "code",
   "execution_count": 15,
   "outputs": [],
   "source": [],
   "metadata": {
    "collapsed": false,
    "pycharm": {
     "name": "#%%\n"
    }
   }
  }
 ],
 "metadata": {
  "kernelspec": {
   "display_name": "Python 3",
   "language": "python",
   "name": "python3"
  },
  "language_info": {
   "codemirror_mode": {
    "name": "ipython",
    "version": 2
   },
   "file_extension": ".py",
   "mimetype": "text/x-python",
   "name": "python",
   "nbconvert_exporter": "python",
   "pygments_lexer": "ipython2",
   "version": "2.7.6"
  }
 },
 "nbformat": 4,
 "nbformat_minor": 0
}